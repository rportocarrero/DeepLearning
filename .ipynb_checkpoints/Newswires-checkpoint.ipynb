{
 "cells": [
  {
   "cell_type": "code",
   "execution_count": 72,
   "id": "4dd2a513",
   "metadata": {},
   "outputs": [],
   "source": [
    "from keras.datasets import reuters\n",
    "(train_data, train_labels), (test_data, test_labels) = reuters.load_data(num_words=10000)"
   ]
  },
  {
   "cell_type": "code",
   "execution_count": 73,
   "id": "4b5aaaf6",
   "metadata": {},
   "outputs": [
    {
     "data": {
      "text/plain": [
       "8982"
      ]
     },
     "execution_count": 73,
     "metadata": {},
     "output_type": "execute_result"
    }
   ],
   "source": [
    "len(train_data)"
   ]
  },
  {
   "cell_type": "code",
   "execution_count": 74,
   "id": "23c62f0a",
   "metadata": {},
   "outputs": [
    {
     "data": {
      "text/plain": [
       "2246"
      ]
     },
     "execution_count": 74,
     "metadata": {},
     "output_type": "execute_result"
    }
   ],
   "source": [
    "len(test_data)"
   ]
  },
  {
   "cell_type": "code",
   "execution_count": 75,
   "id": "a85859be",
   "metadata": {},
   "outputs": [
    {
     "data": {
      "text/plain": [
       "[1,\n",
       " 245,\n",
       " 273,\n",
       " 207,\n",
       " 156,\n",
       " 53,\n",
       " 74,\n",
       " 160,\n",
       " 26,\n",
       " 14,\n",
       " 46,\n",
       " 296,\n",
       " 26,\n",
       " 39,\n",
       " 74,\n",
       " 2979,\n",
       " 3554,\n",
       " 14,\n",
       " 46,\n",
       " 4689,\n",
       " 4329,\n",
       " 86,\n",
       " 61,\n",
       " 3499,\n",
       " 4795,\n",
       " 14,\n",
       " 61,\n",
       " 451,\n",
       " 4329,\n",
       " 17,\n",
       " 12]"
      ]
     },
     "execution_count": 75,
     "metadata": {},
     "output_type": "execute_result"
    }
   ],
   "source": [
    "train_data[10]"
   ]
  },
  {
   "cell_type": "code",
   "execution_count": 76,
   "id": "60fb4798",
   "metadata": {},
   "outputs": [],
   "source": [
    "word_index = reuters.get_word_index()\n",
    "reverse_word_index = dict([(value, key) for (key, value) in word_index.items()])\n",
    "decoded_newswire = ' '.join([reverse_word_index.get(i - 3, '?') for i in train_data[0]])"
   ]
  },
  {
   "cell_type": "code",
   "execution_count": 77,
   "id": "355be2d9",
   "metadata": {},
   "outputs": [
    {
     "data": {
      "text/plain": [
       "'? ? ? said as a result of its december acquisition of space co it expects earnings per share in 1987 of 1 15 to 1 30 dlrs per share up from 70 cts in 1986 the company said pretax net should rise to nine to 10 mln dlrs from six mln dlrs in 1986 and rental operation revenues to 19 to 22 mln dlrs from 12 5 mln dlrs it said cash flow per share this year should be 2 50 to three dlrs reuter 3'"
      ]
     },
     "execution_count": 77,
     "metadata": {},
     "output_type": "execute_result"
    }
   ],
   "source": [
    "decoded_newswire"
   ]
  },
  {
   "cell_type": "code",
   "execution_count": 78,
   "id": "42950f0c",
   "metadata": {},
   "outputs": [
    {
     "data": {
      "text/plain": [
       "3"
      ]
     },
     "execution_count": 78,
     "metadata": {},
     "output_type": "execute_result"
    }
   ],
   "source": [
    "train_labels[10]"
   ]
  },
  {
   "cell_type": "code",
   "execution_count": 79,
   "id": "36e86515",
   "metadata": {},
   "outputs": [],
   "source": [
    "import numpy as np\n",
    "def vectorize_sequences(sequences, dimension=10000):\n",
    "    results = np.zeros((len(sequences), dimension))\n",
    "    for i, sequence in enumerate(sequences):\n",
    "        results[i, sequence] = 1.\n",
    "    return results\n",
    "\n",
    "x_train = vectorize_sequences(train_data)\n",
    "x_test = vectorize_sequences(test_data)"
   ]
  },
  {
   "cell_type": "code",
   "execution_count": 80,
   "id": "c5b2798b",
   "metadata": {},
   "outputs": [],
   "source": [
    "from keras.utils.np_utils import to_categorical\n",
    "\n",
    "one_hot_train_labels = to_categorical(train_labels)\n",
    "one_hot_test_labels = to_categorical(test_labels)"
   ]
  },
  {
   "cell_type": "code",
   "execution_count": 81,
   "id": "ee8cd8b8",
   "metadata": {},
   "outputs": [],
   "source": [
    "from keras import models\n",
    "from keras import layers\n",
    "\n",
    "model = models.Sequential()\n",
    "model.add(layers.Dense(64, activation='relu', input_shape=(10000,)))\n",
    "model.add(layers.Dense(64, activation='relu'))\n",
    "model.add(layers.Dense(46, activation='softmax'))"
   ]
  },
  {
   "cell_type": "code",
   "execution_count": 82,
   "id": "cbeed7c5",
   "metadata": {},
   "outputs": [],
   "source": [
    "model.compile(optimizer='rmsprop', loss='categorical_crossentropy', metrics=['accuracy'])"
   ]
  },
  {
   "cell_type": "code",
   "execution_count": 83,
   "id": "d3853e16",
   "metadata": {},
   "outputs": [],
   "source": [
    "x_val = x_train[:1000]\n",
    "partial_x_train = x_train[1000:]\n",
    "\n",
    "y_val = one_hot_train_labels[:1000]\n",
    "partial_y_train = one_hot_train_labels[1000:]"
   ]
  },
  {
   "cell_type": "code",
   "execution_count": 84,
   "id": "b43e3940",
   "metadata": {},
   "outputs": [
    {
     "name": "stdout",
     "output_type": "stream",
     "text": [
      "Epoch 1/20\n",
      "16/16 [==============================] - 1s 37ms/step - loss: 2.6810 - accuracy: 0.5095 - val_loss: 1.7812 - val_accuracy: 0.6420\n",
      "Epoch 2/20\n",
      "16/16 [==============================] - 0s 25ms/step - loss: 1.4553 - accuracy: 0.6977 - val_loss: 1.3333 - val_accuracy: 0.7140\n",
      "Epoch 3/20\n",
      "16/16 [==============================] - 0s 26ms/step - loss: 1.0830 - accuracy: 0.7618 - val_loss: 1.1432 - val_accuracy: 0.7500\n",
      "Epoch 4/20\n",
      "16/16 [==============================] - 0s 28ms/step - loss: 0.8480 - accuracy: 0.8185 - val_loss: 1.0507 - val_accuracy: 0.7640\n",
      "Epoch 5/20\n",
      "16/16 [==============================] - 0s 28ms/step - loss: 0.6700 - accuracy: 0.8622 - val_loss: 0.9591 - val_accuracy: 0.7980\n",
      "Epoch 6/20\n",
      "16/16 [==============================] - 0s 25ms/step - loss: 0.5294 - accuracy: 0.8891 - val_loss: 0.9679 - val_accuracy: 0.7890\n",
      "Epoch 7/20\n",
      "16/16 [==============================] - 0s 26ms/step - loss: 0.4256 - accuracy: 0.9085 - val_loss: 0.8975 - val_accuracy: 0.8090\n",
      "Epoch 8/20\n",
      "16/16 [==============================] - 0s 25ms/step - loss: 0.3421 - accuracy: 0.9301 - val_loss: 0.8629 - val_accuracy: 0.8210\n",
      "Epoch 9/20\n",
      "16/16 [==============================] - 0s 24ms/step - loss: 0.2815 - accuracy: 0.9385 - val_loss: 0.8638 - val_accuracy: 0.8310\n",
      "Epoch 10/20\n",
      "16/16 [==============================] - 0s 24ms/step - loss: 0.2382 - accuracy: 0.9483 - val_loss: 0.8645 - val_accuracy: 0.8330\n",
      "Epoch 11/20\n",
      "16/16 [==============================] - 0s 24ms/step - loss: 0.2022 - accuracy: 0.9503 - val_loss: 0.9330 - val_accuracy: 0.8150\n",
      "Epoch 12/20\n",
      "16/16 [==============================] - 0s 24ms/step - loss: 0.1830 - accuracy: 0.9508 - val_loss: 0.8921 - val_accuracy: 0.8220\n",
      "Epoch 13/20\n",
      "16/16 [==============================] - 0s 25ms/step - loss: 0.1605 - accuracy: 0.9540 - val_loss: 0.9245 - val_accuracy: 0.8220\n",
      "Epoch 14/20\n",
      "16/16 [==============================] - 0s 24ms/step - loss: 0.1501 - accuracy: 0.9530 - val_loss: 0.9480 - val_accuracy: 0.8210\n",
      "Epoch 15/20\n",
      "16/16 [==============================] - 0s 25ms/step - loss: 0.1390 - accuracy: 0.9557 - val_loss: 1.0541 - val_accuracy: 0.7920\n",
      "Epoch 16/20\n",
      "16/16 [==============================] - 0s 24ms/step - loss: 0.1289 - accuracy: 0.9563 - val_loss: 0.9527 - val_accuracy: 0.8240\n",
      "Epoch 17/20\n",
      "16/16 [==============================] - 0s 24ms/step - loss: 0.1227 - accuracy: 0.9567 - val_loss: 1.0115 - val_accuracy: 0.8010\n",
      "Epoch 18/20\n",
      "16/16 [==============================] - 0s 25ms/step - loss: 0.1208 - accuracy: 0.9573 - val_loss: 1.0718 - val_accuracy: 0.8050\n",
      "Epoch 19/20\n",
      "16/16 [==============================] - 0s 24ms/step - loss: 0.1165 - accuracy: 0.9560 - val_loss: 1.0138 - val_accuracy: 0.8200\n",
      "Epoch 20/20\n",
      "16/16 [==============================] - 0s 24ms/step - loss: 0.1091 - accuracy: 0.9593 - val_loss: 1.0492 - val_accuracy: 0.8040\n"
     ]
    }
   ],
   "source": [
    "history = model.fit(partial_x_train, partial_y_train, epochs=20, batch_size=512, validation_data=(x_val, y_val))"
   ]
  },
  {
   "cell_type": "code",
   "execution_count": 85,
   "id": "eedd265c",
   "metadata": {},
   "outputs": [
    {
     "data": {
      "image/png": "[encoded data removed]",
      "text/plain": [
       "<Figure size 432x288 with 1 Axes>"
      ]
     },
     "metadata": {
      "needs_background": "light"
     },
     "output_type": "display_data"
    }
   ],
   "source": [
    "import matplotlib.pyplot as plt\n",
    "\n",
    "loss = history.history['loss']\n",
    "val_loss = history.history['val_loss']\n",
    "\n",
    "epochs = range(1, len(loss) + 1)\n",
    "\n",
    "plt.plot(epochs, loss, 'bo', label='Training loss')\n",
    "plt.plot(epochs, val_loss, 'b', label='Validation loss')\n",
    "plt.title(\"Training and Validation loss\")\n",
    "plt.xlabel('Epochs')\n",
    "plt.ylabel('Loss')\n",
    "plt.legend()\n",
    "\n",
    "plt.show()"
   ]
  },
  {
   "cell_type": "code",
   "execution_count": 86,
   "id": "144f77fd",
   "metadata": {},
   "outputs": [
    {
     "data": {
      "image/png": "[encoded data removed]",
      "text/plain": [
       "<Figure size 432x288 with 1 Axes>"
      ]
     },
     "metadata": {
      "needs_background": "light"
     },
     "output_type": "display_data"
    }
   ],
   "source": [
    "plt.clf()\n",
    "\n",
    "acc = history.history['accuracy']\n",
    "val_acc = history.history['val_accuracy']\n",
    "\n",
    "plt.plot(epochs, acc, 'bo', label='Training acc')\n",
    "plt.plot(epochs, val_acc, 'b', label='Validation acc')\n",
    "plt.title('Training and validation accuracy')\n",
    "plt.xlabel('Epochs')\n",
    "plt.ylabel('Loss')\n",
    "plt.legend()\n",
    "\n",
    "plt.show()"
   ]
  },
  {
   "cell_type": "code",
   "execution_count": 87,
   "id": "180c7ade",
   "metadata": {},
   "outputs": [
    {
     "name": "stdout",
     "output_type": "stream",
     "text": [
      "Epoch 1/9\n",
      "16/16 [==============================] - 1s 35ms/step - loss: 2.5911 - accuracy: 0.5432 - val_loss: 1.6947 - val_accuracy: 0.6400\n",
      "Epoch 2/9\n",
      "16/16 [==============================] - 0s 24ms/step - loss: 1.3984 - accuracy: 0.7145 - val_loss: 1.2599 - val_accuracy: 0.7260\n",
      "Epoch 3/9\n",
      "16/16 [==============================] - 0s 23ms/step - loss: 1.0282 - accuracy: 0.7804 - val_loss: 1.0965 - val_accuracy: 0.7540\n",
      "Epoch 4/9\n",
      "16/16 [==============================] - 0s 23ms/step - loss: 0.8157 - accuracy: 0.8240 - val_loss: 1.0160 - val_accuracy: 0.7770\n",
      "Epoch 5/9\n",
      "16/16 [==============================] - 0s 23ms/step - loss: 0.6505 - accuracy: 0.8634 - val_loss: 0.9643 - val_accuracy: 0.7830\n",
      "Epoch 6/9\n",
      "16/16 [==============================] - 0s 23ms/step - loss: 0.5210 - accuracy: 0.8918 - val_loss: 0.9198 - val_accuracy: 0.8030\n",
      "Epoch 7/9\n",
      "16/16 [==============================] - 0s 23ms/step - loss: 0.4190 - accuracy: 0.9132 - val_loss: 0.8872 - val_accuracy: 0.8140\n",
      "Epoch 8/9\n",
      "16/16 [==============================] - 0s 24ms/step - loss: 0.3410 - accuracy: 0.9262 - val_loss: 0.9216 - val_accuracy: 0.8060\n",
      "Epoch 9/9\n",
      "16/16 [==============================] - 0s 22ms/step - loss: 0.2799 - accuracy: 0.9392 - val_loss: 0.9021 - val_accuracy: 0.8130\n",
      "71/71 [==============================] - 0s 2ms/step - loss: 0.9938 - accuracy: 0.7876\n"
     ]
    }
   ],
   "source": [
    "model = models.Sequential()\n",
    "model.add(layers.Dense(64, activation='relu', input_shape=(10000,)))\n",
    "model.add(layers.Dense(64, activation='relu'))\n",
    "model.add(layers.Dense(46, activation='softmax'))\n",
    "\n",
    "model.compile(optimizer='rmsprop', loss='categorical_crossentropy', metrics=['accuracy'])\n",
    "model.fit(partial_x_train, partial_y_train, epochs=9, batch_size=512, validation_data=(x_val, y_val))\n",
    "results = model.evaluate(x_test, one_hot_test_labels)"
   ]
  },
  {
   "cell_type": "code",
   "execution_count": 88,
   "id": "bce2cc31",
   "metadata": {},
   "outputs": [
    {
     "data": {
      "text/plain": [
       "[0.9938215017318726, 0.7876224517822266]"
      ]
     },
     "execution_count": 88,
     "metadata": {},
     "output_type": "execute_result"
    }
   ],
   "source": [
    "results"
   ]
  },
  {
   "cell_type": "code",
   "execution_count": 89,
   "id": "d0687d2f",
   "metadata": {},
   "outputs": [
    {
     "data": {
      "text/plain": [
       "0.18210151380231523"
      ]
     },
     "execution_count": 89,
     "metadata": {},
     "output_type": "execute_result"
    }
   ],
   "source": [
    "import copy\n",
    "test_labels_copy = copy.copy(test_labels)\n",
    "np.random.shuffle(test_labels_copy)\n",
    "hits_array = np.array(test_labels) == np.array(test_labels_copy)\n",
    "float(np.sum(hits_array)) / len(test_labels)"
   ]
  },
  {
   "cell_type": "code",
   "execution_count": 90,
   "id": "0f3335a4",
   "metadata": {},
   "outputs": [
    {
     "name": "stdout",
     "output_type": "stream",
     "text": [
      "71/71 [==============================] - 0s 2ms/step\n"
     ]
    },
    {
     "data": {
      "text/plain": [
       "(46,)"
      ]
     },
     "execution_count": 90,
     "metadata": {},
     "output_type": "execute_result"
    }
   ],
   "source": [
    "predictions= model.predict(x_test)\n",
    "predictions[0].shape"
   ]
  },
  {
   "cell_type": "code",
   "execution_count": 91,
   "id": "ecfbe600",
   "metadata": {},
   "outputs": [
    {
     "data": {
      "text/plain": [
       "1.0"
      ]
     },
     "execution_count": 91,
     "metadata": {},
     "output_type": "execute_result"
    }
   ],
   "source": [
    "np.sum(predictions[0])"
   ]
  },
  {
   "cell_type": "code",
   "execution_count": 92,
   "id": "8a3da641",
   "metadata": {},
   "outputs": [
    {
     "data": {
      "text/plain": [
       "3"
      ]
     },
     "execution_count": 92,
     "metadata": {},
     "output_type": "execute_result"
    }
   ],
   "source": [
    "np.argmax(predictions[0])"
   ]
  },
  {
   "cell_type": "markdown",
   "id": "849e9bea",
   "metadata": {},
   "source": [
    "# information bottleneck"
   ]
  },
  {
   "cell_type": "code",
   "execution_count": 93,
   "id": "20d7bc1c",
   "metadata": {},
   "outputs": [
    {
     "name": "stdout",
     "output_type": "stream",
     "text": [
      "Epoch 1/20\n",
      "63/63 [==============================] - 1s 13ms/step - loss: 3.1342 - accuracy: 0.1810 - val_loss: 2.6150 - val_accuracy: 0.2480\n",
      "Epoch 2/20\n",
      "63/63 [==============================] - 1s 10ms/step - loss: 2.1396 - accuracy: 0.3963 - val_loss: 1.8525 - val_accuracy: 0.5880\n",
      "Epoch 3/20\n",
      "63/63 [==============================] - 1s 11ms/step - loss: 1.4942 - accuracy: 0.6104 - val_loss: 1.5454 - val_accuracy: 0.5950\n",
      "Epoch 4/20\n",
      "63/63 [==============================] - 1s 10ms/step - loss: 1.2669 - accuracy: 0.6579 - val_loss: 1.4658 - val_accuracy: 0.6600\n",
      "Epoch 5/20\n",
      "63/63 [==============================] - 1s 10ms/step - loss: 1.1415 - accuracy: 0.7093 - val_loss: 1.4169 - val_accuracy: 0.6790\n",
      "Epoch 6/20\n",
      "63/63 [==============================] - 1s 11ms/step - loss: 1.0568 - accuracy: 0.7256 - val_loss: 1.4093 - val_accuracy: 0.6850\n",
      "Epoch 7/20\n",
      "63/63 [==============================] - 1s 10ms/step - loss: 0.9894 - accuracy: 0.7393 - val_loss: 1.4100 - val_accuracy: 0.6930\n",
      "Epoch 8/20\n",
      "63/63 [==============================] - 1s 11ms/step - loss: 0.9145 - accuracy: 0.7580 - val_loss: 1.4041 - val_accuracy: 0.7010\n",
      "Epoch 9/20\n",
      "63/63 [==============================] - 1s 10ms/step - loss: 0.8436 - accuracy: 0.7686 - val_loss: 1.4067 - val_accuracy: 0.6960\n",
      "Epoch 10/20\n",
      "63/63 [==============================] - 1s 10ms/step - loss: 0.7856 - accuracy: 0.7795 - val_loss: 1.4149 - val_accuracy: 0.7060\n",
      "Epoch 11/20\n",
      "63/63 [==============================] - 1s 11ms/step - loss: 0.7326 - accuracy: 0.7955 - val_loss: 1.4612 - val_accuracy: 0.7030\n",
      "Epoch 12/20\n",
      "63/63 [==============================] - 1s 11ms/step - loss: 0.6869 - accuracy: 0.8003 - val_loss: 1.4866 - val_accuracy: 0.7080\n",
      "Epoch 13/20\n",
      "63/63 [==============================] - 1s 10ms/step - loss: 0.6465 - accuracy: 0.8083 - val_loss: 1.5313 - val_accuracy: 0.7120\n",
      "Epoch 14/20\n",
      "63/63 [==============================] - 1s 11ms/step - loss: 0.6100 - accuracy: 0.8143 - val_loss: 1.5672 - val_accuracy: 0.7120\n",
      "Epoch 15/20\n",
      "63/63 [==============================] - 1s 11ms/step - loss: 0.5797 - accuracy: 0.8264 - val_loss: 1.6362 - val_accuracy: 0.7150\n",
      "Epoch 16/20\n",
      "63/63 [==============================] - 1s 10ms/step - loss: 0.5498 - accuracy: 0.8378 - val_loss: 1.6893 - val_accuracy: 0.7100\n",
      "Epoch 17/20\n",
      "63/63 [==============================] - 1s 11ms/step - loss: 0.5217 - accuracy: 0.8554 - val_loss: 1.7153 - val_accuracy: 0.7090\n",
      "Epoch 18/20\n",
      "63/63 [==============================] - 1s 11ms/step - loss: 0.4971 - accuracy: 0.8658 - val_loss: 1.7979 - val_accuracy: 0.7050\n",
      "Epoch 19/20\n",
      "63/63 [==============================] - 1s 10ms/step - loss: 0.4791 - accuracy: 0.8649 - val_loss: 1.8664 - val_accuracy: 0.7080\n",
      "Epoch 20/20\n",
      "63/63 [==============================] - 1s 11ms/step - loss: 0.4566 - accuracy: 0.8690 - val_loss: 1.8919 - val_accuracy: 0.7020\n"
     ]
    },
    {
     "data": {
      "text/plain": [
       "<keras.callbacks.History at 0x12a0ee271c0>"
      ]
     },
     "execution_count": 93,
     "metadata": {},
     "output_type": "execute_result"
    }
   ],
   "source": [
    "model = models.Sequential()\n",
    "model.add(layers.Dense(64, activation='relu', input_shape=(10000,)))\n",
    "model.add(layers.Dense(4, activation='relu'))\n",
    "model.add(layers.Dense(46, activation='softmax'))\n",
    "\n",
    "model.compile(optimizer='rmsprop', loss='categorical_crossentropy', metrics=['accuracy'])\n",
    "model.fit(partial_x_train, partial_y_train, epochs=20, batch_size=128, validation_data=(x_val, y_val))"
   ]
  },
  {
   "cell_type": "markdown",
   "id": "62d22f7e",
   "metadata": {},
   "source": [
    "## Smaller Layers"
   ]
  },
  {
   "cell_type": "code",
   "execution_count": 94,
   "id": "be65ceff",
   "metadata": {},
   "outputs": [
    {
     "name": "stdout",
     "output_type": "stream",
     "text": [
      "Epoch 1/20\n",
      "16/16 [==============================] - 1s 30ms/step - loss: 3.1688 - accuracy: 0.3968 - val_loss: 2.4435 - val_accuracy: 0.5610\n",
      "Epoch 2/20\n",
      "16/16 [==============================] - 0s 18ms/step - loss: 2.0413 - accuracy: 0.6136 - val_loss: 1.7870 - val_accuracy: 0.6480\n",
      "Epoch 3/20\n",
      "16/16 [==============================] - 0s 18ms/step - loss: 1.5374 - accuracy: 0.6908 - val_loss: 1.5068 - val_accuracy: 0.6900\n",
      "Epoch 4/20\n",
      "16/16 [==============================] - 0s 17ms/step - loss: 1.2668 - accuracy: 0.7337 - val_loss: 1.3156 - val_accuracy: 0.7050\n",
      "Epoch 5/20\n",
      "16/16 [==============================] - 0s 17ms/step - loss: 1.0734 - accuracy: 0.7669 - val_loss: 1.2039 - val_accuracy: 0.7420\n",
      "Epoch 6/20\n",
      "16/16 [==============================] - 0s 17ms/step - loss: 0.9263 - accuracy: 0.8023 - val_loss: 1.1332 - val_accuracy: 0.7440\n",
      "Epoch 7/20\n",
      "16/16 [==============================] - 0s 18ms/step - loss: 0.8006 - accuracy: 0.8271 - val_loss: 1.0700 - val_accuracy: 0.7660\n",
      "Epoch 8/20\n",
      "16/16 [==============================] - 0s 17ms/step - loss: 0.6926 - accuracy: 0.8503 - val_loss: 1.0292 - val_accuracy: 0.7810\n",
      "Epoch 9/20\n",
      "16/16 [==============================] - 0s 18ms/step - loss: 0.6017 - accuracy: 0.8698 - val_loss: 0.9887 - val_accuracy: 0.7880\n",
      "Epoch 10/20\n",
      "16/16 [==============================] - 0s 17ms/step - loss: 0.5218 - accuracy: 0.8872 - val_loss: 0.9684 - val_accuracy: 0.7890\n",
      "Epoch 11/20\n",
      "16/16 [==============================] - 0s 17ms/step - loss: 0.4529 - accuracy: 0.9044 - val_loss: 0.9701 - val_accuracy: 0.7890\n",
      "Epoch 12/20\n",
      "16/16 [==============================] - 0s 18ms/step - loss: 0.3962 - accuracy: 0.9158 - val_loss: 0.9433 - val_accuracy: 0.8080\n",
      "Epoch 13/20\n",
      "16/16 [==============================] - 0s 18ms/step - loss: 0.3493 - accuracy: 0.9270 - val_loss: 0.9497 - val_accuracy: 0.8050\n",
      "Epoch 14/20\n",
      "16/16 [==============================] - 0s 18ms/step - loss: 0.3077 - accuracy: 0.9345 - val_loss: 0.9430 - val_accuracy: 0.8040\n",
      "Epoch 15/20\n",
      "16/16 [==============================] - 0s 18ms/step - loss: 0.2718 - accuracy: 0.9406 - val_loss: 0.9494 - val_accuracy: 0.8050\n",
      "Epoch 16/20\n",
      "16/16 [==============================] - 0s 19ms/step - loss: 0.2455 - accuracy: 0.9458 - val_loss: 0.9541 - val_accuracy: 0.8050\n",
      "Epoch 17/20\n",
      "16/16 [==============================] - 0s 20ms/step - loss: 0.2211 - accuracy: 0.9489 - val_loss: 0.9804 - val_accuracy: 0.8020\n",
      "Epoch 18/20\n",
      "16/16 [==============================] - 0s 19ms/step - loss: 0.2011 - accuracy: 0.9485 - val_loss: 0.9980 - val_accuracy: 0.8010\n",
      "Epoch 19/20\n",
      "16/16 [==============================] - 0s 18ms/step - loss: 0.1856 - accuracy: 0.9519 - val_loss: 1.0011 - val_accuracy: 0.8030\n",
      "Epoch 20/20\n",
      "16/16 [==============================] - 0s 18ms/step - loss: 0.1712 - accuracy: 0.9524 - val_loss: 1.0344 - val_accuracy: 0.7990\n"
     ]
    },
    {
     "data": {
      "text/plain": [
       "<keras.callbacks.History at 0x129f4f20760>"
      ]
     },
     "execution_count": 94,
     "metadata": {},
     "output_type": "execute_result"
    }
   ],
   "source": [
    "small_model = models.Sequential()\n",
    "small_model.add(layers.Dense(32, activation='relu', input_shape=(10000,)))\n",
    "small_model.add(layers.Dense(32, activation='relu'))\n",
    "small_model.add(layers.Dense(46, activation='softmax'))\n",
    "\n",
    "small_model.compile(optimizer='rmsprop', loss='categorical_crossentropy', metrics=['accuracy'])\n",
    "small_model.fit(partial_x_train, partial_y_train, epochs=20, batch_size=512, validation_data=(x_val, y_val))"
   ]
  },
  {
   "cell_type": "markdown",
   "id": "11e0e2f1",
   "metadata": {},
   "source": [
    "## Larger Layers"
   ]
  },
  {
   "cell_type": "code",
   "execution_count": 95,
   "id": "3118bef4",
   "metadata": {},
   "outputs": [
    {
     "name": "stdout",
     "output_type": "stream",
     "text": [
      "Epoch 1/20\n",
      "16/16 [==============================] - 2s 38ms/step - loss: 2.6381 - accuracy: 0.4957 - val_loss: 1.7627 - val_accuracy: 0.6470\n",
      "Epoch 2/20\n",
      "16/16 [==============================] - 0s 24ms/step - loss: 1.4434 - accuracy: 0.7048 - val_loss: 1.2989 - val_accuracy: 0.7150\n",
      "Epoch 3/20\n",
      "16/16 [==============================] - 0s 27ms/step - loss: 1.0620 - accuracy: 0.7727 - val_loss: 1.1085 - val_accuracy: 0.7600\n",
      "Epoch 4/20\n",
      "16/16 [==============================] - 0s 23ms/step - loss: 0.8354 - accuracy: 0.8266 - val_loss: 1.0111 - val_accuracy: 0.7740\n",
      "Epoch 5/20\n",
      "16/16 [==============================] - 0s 23ms/step - loss: 0.6667 - accuracy: 0.8607 - val_loss: 0.9386 - val_accuracy: 0.8020\n",
      "Epoch 6/20\n",
      "16/16 [==============================] - 0s 23ms/step - loss: 0.5360 - accuracy: 0.8870 - val_loss: 0.9353 - val_accuracy: 0.7920\n",
      "Epoch 7/20\n",
      "16/16 [==============================] - 0s 24ms/step - loss: 0.4330 - accuracy: 0.9116 - val_loss: 0.8888 - val_accuracy: 0.8120\n",
      "Epoch 8/20\n",
      "16/16 [==============================] - 0s 23ms/step - loss: 0.3545 - accuracy: 0.9267 - val_loss: 0.8851 - val_accuracy: 0.8150\n",
      "Epoch 9/20\n",
      "16/16 [==============================] - 0s 23ms/step - loss: 0.2944 - accuracy: 0.9369 - val_loss: 0.8728 - val_accuracy: 0.8240\n",
      "Epoch 10/20\n",
      "16/16 [==============================] - 0s 23ms/step - loss: 0.2505 - accuracy: 0.9401 - val_loss: 0.8701 - val_accuracy: 0.8150\n",
      "Epoch 11/20\n",
      "16/16 [==============================] - 0s 23ms/step - loss: 0.2138 - accuracy: 0.9464 - val_loss: 0.9008 - val_accuracy: 0.8170\n",
      "Epoch 12/20\n",
      "16/16 [==============================] - 0s 26ms/step - loss: 0.1890 - accuracy: 0.9511 - val_loss: 0.9277 - val_accuracy: 0.8070\n",
      "Epoch 13/20\n",
      "16/16 [==============================] - 0s 26ms/step - loss: 0.1683 - accuracy: 0.9539 - val_loss: 0.9478 - val_accuracy: 0.8060\n",
      "Epoch 14/20\n",
      "16/16 [==============================] - 0s 23ms/step - loss: 0.1520 - accuracy: 0.9557 - val_loss: 0.9185 - val_accuracy: 0.8170\n",
      "Epoch 15/20\n",
      "16/16 [==============================] - 0s 24ms/step - loss: 0.1380 - accuracy: 0.9567 - val_loss: 0.9636 - val_accuracy: 0.8060\n",
      "Epoch 16/20\n",
      "16/16 [==============================] - 0s 28ms/step - loss: 0.1360 - accuracy: 0.9565 - val_loss: 1.0273 - val_accuracy: 0.8080\n",
      "Epoch 17/20\n",
      "16/16 [==============================] - 0s 25ms/step - loss: 0.1265 - accuracy: 0.9572 - val_loss: 0.9762 - val_accuracy: 0.8140\n",
      "Epoch 18/20\n",
      "16/16 [==============================] - 0s 25ms/step - loss: 0.1168 - accuracy: 0.9580 - val_loss: 1.0969 - val_accuracy: 0.7860\n",
      "Epoch 19/20\n",
      "16/16 [==============================] - 0s 25ms/step - loss: 0.1183 - accuracy: 0.9570 - val_loss: 1.0286 - val_accuracy: 0.8180\n",
      "Epoch 20/20\n",
      "16/16 [==============================] - 0s 24ms/step - loss: 0.1107 - accuracy: 0.9578 - val_loss: 1.1380 - val_accuracy: 0.7990\n"
     ]
    },
    {
     "data": {
      "text/plain": [
       "<keras.callbacks.History at 0x129f5e46df0>"
      ]
     },
     "execution_count": 95,
     "metadata": {},
     "output_type": "execute_result"
    }
   ],
   "source": [
    "large_model = models.Sequential()\n",
    "large_model.add(layers.Dense(64, activation='relu', input_shape=(10000,)))\n",
    "large_model.add(layers.Dense(64, activation='relu'))\n",
    "large_model.add(layers.Dense(46, activation='softmax'))\n",
    "\n",
    "large_model.compile(optimizer='rmsprop', loss='categorical_crossentropy', metrics=['accuracy'])\n",
    "large_model.fit(partial_x_train, partial_y_train, epochs=20, batch_size=512, validation_data=(x_val, y_val))"
   ]
  },
  {
   "cell_type": "markdown",
   "id": "7f64ab44",
   "metadata": {},
   "source": [
    "## small Single hidden layer"
   ]
  },
  {
   "cell_type": "code",
   "execution_count": 96,
   "id": "0f4ca17c",
   "metadata": {},
   "outputs": [
    {
     "name": "stdout",
     "output_type": "stream",
     "text": [
      "Epoch 1/20\n",
      "16/16 [==============================] - 1s 27ms/step - loss: 2.8862 - accuracy: 0.4962 - val_loss: 2.2114 - val_accuracy: 0.6090\n",
      "Epoch 2/20\n",
      "16/16 [==============================] - 0s 19ms/step - loss: 1.8665 - accuracy: 0.6731 - val_loss: 1.6826 - val_accuracy: 0.6740\n",
      "Epoch 3/20\n",
      "16/16 [==============================] - 0s 17ms/step - loss: 1.4297 - accuracy: 0.7310 - val_loss: 1.4043 - val_accuracy: 0.7180\n",
      "Epoch 4/20\n",
      "16/16 [==============================] - 0s 18ms/step - loss: 1.1616 - accuracy: 0.7741 - val_loss: 1.2343 - val_accuracy: 0.7470\n",
      "Epoch 5/20\n",
      "16/16 [==============================] - 0s 18ms/step - loss: 0.9755 - accuracy: 0.8008 - val_loss: 1.1211 - val_accuracy: 0.7720\n",
      "Epoch 6/20\n",
      "16/16 [==============================] - 0s 19ms/step - loss: 0.8361 - accuracy: 0.8297 - val_loss: 1.0481 - val_accuracy: 0.7800\n",
      "Epoch 7/20\n",
      "16/16 [==============================] - 0s 18ms/step - loss: 0.7269 - accuracy: 0.8527 - val_loss: 0.9909 - val_accuracy: 0.7970\n",
      "Epoch 8/20\n",
      "16/16 [==============================] - 0s 18ms/step - loss: 0.6339 - accuracy: 0.8733 - val_loss: 0.9556 - val_accuracy: 0.8010\n",
      "Epoch 9/20\n",
      "16/16 [==============================] - 0s 17ms/step - loss: 0.5579 - accuracy: 0.8900 - val_loss: 0.9277 - val_accuracy: 0.8080\n",
      "Epoch 10/20\n",
      "16/16 [==============================] - 0s 17ms/step - loss: 0.4909 - accuracy: 0.9017 - val_loss: 0.8959 - val_accuracy: 0.8160\n",
      "Epoch 11/20\n",
      "16/16 [==============================] - 0s 17ms/step - loss: 0.4344 - accuracy: 0.9134 - val_loss: 0.8816 - val_accuracy: 0.8160\n",
      "Epoch 12/20\n",
      "16/16 [==============================] - 0s 17ms/step - loss: 0.3836 - accuracy: 0.9240 - val_loss: 0.8677 - val_accuracy: 0.8200\n",
      "Epoch 13/20\n",
      "16/16 [==============================] - 0s 18ms/step - loss: 0.3411 - accuracy: 0.9318 - val_loss: 0.8527 - val_accuracy: 0.8220\n",
      "Epoch 14/20\n",
      "16/16 [==============================] - 0s 18ms/step - loss: 0.3051 - accuracy: 0.9359 - val_loss: 0.8500 - val_accuracy: 0.8130\n",
      "Epoch 15/20\n",
      "16/16 [==============================] - 0s 18ms/step - loss: 0.2731 - accuracy: 0.9406 - val_loss: 0.8482 - val_accuracy: 0.8160\n",
      "Epoch 16/20\n",
      "16/16 [==============================] - 0s 18ms/step - loss: 0.2460 - accuracy: 0.9456 - val_loss: 0.8530 - val_accuracy: 0.8160\n",
      "Epoch 17/20\n",
      "16/16 [==============================] - 0s 17ms/step - loss: 0.2228 - accuracy: 0.9469 - val_loss: 0.8482 - val_accuracy: 0.8170\n",
      "Epoch 18/20\n",
      "16/16 [==============================] - 0s 17ms/step - loss: 0.2036 - accuracy: 0.9499 - val_loss: 0.8462 - val_accuracy: 0.8230\n",
      "Epoch 19/20\n",
      "16/16 [==============================] - 0s 18ms/step - loss: 0.1858 - accuracy: 0.9534 - val_loss: 0.8613 - val_accuracy: 0.8160\n",
      "Epoch 20/20\n",
      "16/16 [==============================] - 0s 17ms/step - loss: 0.1721 - accuracy: 0.9551 - val_loss: 0.8735 - val_accuracy: 0.8250\n"
     ]
    },
    {
     "data": {
      "text/plain": [
       "<keras.callbacks.History at 0x129f4376700>"
      ]
     },
     "execution_count": 96,
     "metadata": {},
     "output_type": "execute_result"
    }
   ],
   "source": [
    "small_single_model = models.Sequential()\n",
    "small_single_model.add(layers.Dense(32, activation='relu', input_shape=(10000,)))\n",
    "small_single_model.add(layers.Dense(46, activation='softmax'))\n",
    "\n",
    "small_single_model.compile(optimizer='rmsprop', loss='categorical_crossentropy', metrics=['accuracy'])\n",
    "small_single_model.fit(partial_x_train, partial_y_train, epochs=20, batch_size=512, validation_data=(x_val, y_val))"
   ]
  },
  {
   "cell_type": "markdown",
   "id": "cfb662f0",
   "metadata": {},
   "source": [
    "## Large single hidden layer"
   ]
  },
  {
   "cell_type": "code",
   "execution_count": 98,
   "id": "624abda5",
   "metadata": {},
   "outputs": [
    {
     "name": "stdout",
     "output_type": "stream",
     "text": [
      "Epoch 1/20\n",
      "16/16 [==============================] - 1s 43ms/step - loss: 2.2155 - accuracy: 0.5927 - val_loss: 1.4491 - val_accuracy: 0.7030\n",
      "Epoch 2/20\n",
      "16/16 [==============================] - 1s 35ms/step - loss: 1.1306 - accuracy: 0.7702 - val_loss: 1.1011 - val_accuracy: 0.7720\n",
      "Epoch 3/20\n",
      "16/16 [==============================] - 1s 35ms/step - loss: 0.7801 - accuracy: 0.8450 - val_loss: 0.9638 - val_accuracy: 0.8000\n",
      "Epoch 4/20\n",
      "16/16 [==============================] - 1s 34ms/step - loss: 0.5757 - accuracy: 0.8861 - val_loss: 0.8747 - val_accuracy: 0.8230\n",
      "Epoch 5/20\n",
      "16/16 [==============================] - 1s 36ms/step - loss: 0.4387 - accuracy: 0.9144 - val_loss: 0.8431 - val_accuracy: 0.8270\n",
      "Epoch 6/20\n",
      "16/16 [==============================] - 1s 35ms/step - loss: 0.3419 - accuracy: 0.9302 - val_loss: 0.8084 - val_accuracy: 0.8350\n",
      "Epoch 7/20\n",
      "16/16 [==============================] - 1s 35ms/step - loss: 0.2727 - accuracy: 0.9426 - val_loss: 0.8232 - val_accuracy: 0.8230\n",
      "Epoch 8/20\n",
      "16/16 [==============================] - 1s 35ms/step - loss: 0.2270 - accuracy: 0.9479 - val_loss: 0.8169 - val_accuracy: 0.8350\n",
      "Epoch 9/20\n",
      "16/16 [==============================] - 1s 35ms/step - loss: 0.1910 - accuracy: 0.9515 - val_loss: 0.8365 - val_accuracy: 0.8260\n",
      "Epoch 10/20\n",
      "16/16 [==============================] - 1s 36ms/step - loss: 0.1714 - accuracy: 0.9530 - val_loss: 0.8469 - val_accuracy: 0.8220\n",
      "Epoch 11/20\n",
      "16/16 [==============================] - 1s 36ms/step - loss: 0.1522 - accuracy: 0.9538 - val_loss: 0.8678 - val_accuracy: 0.8200\n",
      "Epoch 12/20\n",
      "16/16 [==============================] - 1s 36ms/step - loss: 0.1386 - accuracy: 0.9554 - val_loss: 0.9056 - val_accuracy: 0.8240\n",
      "Epoch 13/20\n",
      "16/16 [==============================] - 1s 34ms/step - loss: 0.1299 - accuracy: 0.9570 - val_loss: 0.9289 - val_accuracy: 0.8100\n",
      "Epoch 14/20\n",
      "16/16 [==============================] - 1s 36ms/step - loss: 0.1192 - accuracy: 0.9579 - val_loss: 0.9231 - val_accuracy: 0.8220\n",
      "Epoch 15/20\n",
      "16/16 [==============================] - 1s 37ms/step - loss: 0.1177 - accuracy: 0.9554 - val_loss: 0.9398 - val_accuracy: 0.8150\n",
      "Epoch 16/20\n",
      "16/16 [==============================] - 1s 35ms/step - loss: 0.1097 - accuracy: 0.9579 - val_loss: 0.9704 - val_accuracy: 0.8150\n",
      "Epoch 17/20\n",
      "16/16 [==============================] - 1s 35ms/step - loss: 0.1051 - accuracy: 0.9567 - val_loss: 0.9808 - val_accuracy: 0.8150\n",
      "Epoch 18/20\n",
      "16/16 [==============================] - 1s 35ms/step - loss: 0.1077 - accuracy: 0.9569 - val_loss: 1.0211 - val_accuracy: 0.8080\n",
      "Epoch 19/20\n",
      "16/16 [==============================] - 1s 36ms/step - loss: 0.1044 - accuracy: 0.9564 - val_loss: 1.0126 - val_accuracy: 0.8200\n",
      "Epoch 20/20\n",
      "16/16 [==============================] - 1s 35ms/step - loss: 0.1011 - accuracy: 0.9563 - val_loss: 1.0075 - val_accuracy: 0.8110\n"
     ]
    },
    {
     "data": {
      "text/plain": [
       "<keras.callbacks.History at 0x129f4fcd070>"
      ]
     },
     "execution_count": 98,
     "metadata": {},
     "output_type": "execute_result"
    }
   ],
   "source": [
    "large_single_model = models.Sequential()\n",
    "large_single_model.add(layers.Dense(128, activation='relu', input_shape=(10000,)))\n",
    "large_single_model.add(layers.Dense(46, activation='softmax'))\n",
    "\n",
    "large_single_model.compile(optimizer='rmsprop', loss='categorical_crossentropy', metrics=['accuracy'])\n",
    "large_single_model.fit(partial_x_train, partial_y_train, epochs=20, batch_size=512, validation_data=(x_val, y_val))"
   ]
  },
  {
   "cell_type": "markdown",
   "id": "326f88c1",
   "metadata": {},
   "source": [
    "## Multiple Layers"
   ]
  },
  {
   "cell_type": "code",
   "execution_count": null,
   "id": "481bd3ba",
   "metadata": {},
   "outputs": [],
   "source": [
    "threeL_model = models.Sequential()\n",
    "threeL_model.add(layers.Dense(64, activation='relu', input_shape=(10000,)))\n",
    "threeL_model.add(layers.Dense(64, activation='relu'))\n",
    "threeL_model.add(layers.Dense(46, activation='softmax'))\n",
    "\n",
    "threeL_model.compile(optimizer='rmsprop', loss='categorical_crossentropy', metrics=['accuracy'])\n",
    "threeL_model.fit(partial_x_train, partial_y_train, epochs=20, batch_size=512, validation_data=(x_val, y_val))"
   ]
  }
 ],
 "metadata": {
  "kernelspec": {
   "display_name": "Python 3 (ipykernel)",
   "language": "python",
   "name": "python3"
  },
  "language_info": {
   "codemirror_mode": {
    "name": "ipython",
    "version": 3
   },
   "file_extension": ".py",
   "mimetype": "text/x-python",
   "name": "python",
   "nbconvert_exporter": "python",
   "pygments_lexer": "ipython3",
   "version": "3.9.13"
  }
 },
 "nbformat": 4,
 "nbformat_minor": 5
}
